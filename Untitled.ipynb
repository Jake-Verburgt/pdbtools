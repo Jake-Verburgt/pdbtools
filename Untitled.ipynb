{
 "cells": [
  {
   "cell_type": "code",
   "execution_count": 1,
   "id": "b144e3e8",
   "metadata": {},
   "outputs": [],
   "source": [
    "from Bio.PDB import *"
   ]
  },
  {
   "cell_type": "code",
   "execution_count": 2,
   "id": "f6448fb5",
   "metadata": {},
   "outputs": [
    {
     "name": "stderr",
     "output_type": "stream",
     "text": [
      "/home/jake/software/anaconda3/envs/molmodel/lib/python3.7/site-packages/Bio/PDB/PDBParser.py:399: PDBConstructionWarning: Ignoring unrecognized record 'END' at line 3564\n",
      "  PDBConstructionWarning,\n",
      "/home/jake/software/anaconda3/envs/molmodel/lib/python3.7/site-packages/Bio/PDB/PDBParser.py:399: PDBConstructionWarning: Ignoring unrecognized record 'END' at line 3596\n",
      "  PDBConstructionWarning,\n"
     ]
    }
   ],
   "source": [
    "parser = PDBParser(PERMISSIVE=True)\n",
    "ref = parser.get_structure(\"ref\", \"1A2K_c_b.pdb\")       #These are STRUCTURES\n",
    "struct1 = parser.get_structure(\"model1\", \"1A2K_c_u.pdb\")\n",
    "\n",
    "refmodel = ref[0]       #These are the first MODEL (frame/state)\n",
    "model1 = struct1[0]\n",
    "\n"
   ]
  },
  {
   "cell_type": "code",
   "execution_count": 10,
   "id": "cadc75ce",
   "metadata": {},
   "outputs": [
    {
     "data": {
      "text/plain": [
       "'A'"
      ]
     },
     "execution_count": 10,
     "metadata": {},
     "output_type": "execute_result"
    }
   ],
   "source": [
    "list(refmodel.get_chains())[0].get_id()\n",
    "\n"
   ]
  },
  {
   "cell_type": "code",
   "execution_count": 13,
   "id": "d2266b29",
   "metadata": {},
   "outputs": [
    {
     "data": {
      "text/plain": [
       "[<Residue LYS het=  resseq=1 icode= >,\n",
       " <Residue PRO het=  resseq=2 icode= >,\n",
       " <Residue ILE het=  resseq=3 icode= >,\n",
       " <Residue TRP het=  resseq=4 icode= >,\n",
       " <Residue GLU het=  resseq=5 icode= >,\n",
       " <Residue GLN het=  resseq=6 icode= >,\n",
       " <Residue ILE het=  resseq=7 icode= >,\n",
       " <Residue GLY het=  resseq=8 icode= >,\n",
       " <Residue SER het=  resseq=9 icode= >,\n",
       " <Residue SER het=  resseq=10 icode= >,\n",
       " <Residue PHE het=  resseq=11 icode= >,\n",
       " <Residue ILE het=  resseq=12 icode= >,\n",
       " <Residue GLN het=  resseq=13 icode= >,\n",
       " <Residue HIS het=  resseq=14 icode= >,\n",
       " <Residue TYR het=  resseq=15 icode= >,\n",
       " <Residue TYR het=  resseq=16 icode= >,\n",
       " <Residue GLN het=  resseq=17 icode= >,\n",
       " <Residue LEU het=  resseq=18 icode= >,\n",
       " <Residue PHE het=  resseq=19 icode= >,\n",
       " <Residue ASP het=  resseq=20 icode= >,\n",
       " <Residue ASN het=  resseq=21 icode= >,\n",
       " <Residue ASP het=  resseq=22 icode= >,\n",
       " <Residue ARG het=  resseq=23 icode= >,\n",
       " <Residue THR het=  resseq=24 icode= >,\n",
       " <Residue GLN het=  resseq=25 icode= >,\n",
       " <Residue LEU het=  resseq=26 icode= >,\n",
       " <Residue GLY het=  resseq=27 icode= >,\n",
       " <Residue ALA het=  resseq=28 icode= >,\n",
       " <Residue ILE het=  resseq=29 icode= >,\n",
       " <Residue TYR het=  resseq=30 icode= >,\n",
       " <Residue ILE het=  resseq=31 icode= >,\n",
       " <Residue ASP het=  resseq=32 icode= >,\n",
       " <Residue ALA het=  resseq=33 icode= >,\n",
       " <Residue SER het=  resseq=34 icode= >,\n",
       " <Residue CYS het=  resseq=35 icode= >,\n",
       " <Residue LEU het=  resseq=36 icode= >,\n",
       " <Residue THR het=  resseq=37 icode= >,\n",
       " <Residue TRP het=  resseq=38 icode= >,\n",
       " <Residue GLU het=  resseq=39 icode= >,\n",
       " <Residue GLY het=  resseq=40 icode= >,\n",
       " <Residue GLN het=  resseq=41 icode= >,\n",
       " <Residue GLN het=  resseq=42 icode= >,\n",
       " <Residue PHE het=  resseq=43 icode= >,\n",
       " <Residue GLN het=  resseq=44 icode= >,\n",
       " <Residue GLY het=  resseq=45 icode= >,\n",
       " <Residue LYS het=  resseq=46 icode= >,\n",
       " <Residue ALA het=  resseq=47 icode= >,\n",
       " <Residue ALA het=  resseq=48 icode= >,\n",
       " <Residue ILE het=  resseq=49 icode= >,\n",
       " <Residue VAL het=  resseq=50 icode= >,\n",
       " <Residue GLU het=  resseq=51 icode= >,\n",
       " <Residue LYS het=  resseq=52 icode= >,\n",
       " <Residue LEU het=  resseq=53 icode= >,\n",
       " <Residue SER het=  resseq=54 icode= >,\n",
       " <Residue SER het=  resseq=55 icode= >,\n",
       " <Residue LEU het=  resseq=56 icode= >,\n",
       " <Residue PRO het=  resseq=57 icode= >,\n",
       " <Residue PHE het=  resseq=58 icode= >,\n",
       " <Residue GLN het=  resseq=59 icode= >,\n",
       " <Residue LYS het=  resseq=60 icode= >,\n",
       " <Residue ILE het=  resseq=61 icode= >,\n",
       " <Residue GLN het=  resseq=62 icode= >,\n",
       " <Residue HIS het=  resseq=63 icode= >,\n",
       " <Residue SER het=  resseq=64 icode= >,\n",
       " <Residue ILE het=  resseq=65 icode= >,\n",
       " <Residue THR het=  resseq=66 icode= >,\n",
       " <Residue ALA het=  resseq=67 icode= >,\n",
       " <Residue GLN het=  resseq=68 icode= >,\n",
       " <Residue ASP het=  resseq=69 icode= >,\n",
       " <Residue HIS het=  resseq=70 icode= >,\n",
       " <Residue GLN het=  resseq=71 icode= >,\n",
       " <Residue PRO het=  resseq=72 icode= >,\n",
       " <Residue THR het=  resseq=73 icode= >,\n",
       " <Residue PRO het=  resseq=74 icode= >,\n",
       " <Residue ASP het=  resseq=75 icode= >,\n",
       " <Residue SER het=  resseq=76 icode= >,\n",
       " <Residue CYS het=  resseq=77 icode= >,\n",
       " <Residue ILE het=  resseq=78 icode= >,\n",
       " <Residue ILE het=  resseq=79 icode= >,\n",
       " <Residue SER het=  resseq=80 icode= >,\n",
       " <Residue MET het=  resseq=81 icode= >,\n",
       " <Residue VAL het=  resseq=82 icode= >,\n",
       " <Residue VAL het=  resseq=83 icode= >,\n",
       " <Residue GLY het=  resseq=84 icode= >,\n",
       " <Residue GLN het=  resseq=85 icode= >,\n",
       " <Residue LEU het=  resseq=86 icode= >,\n",
       " <Residue LYS het=  resseq=87 icode= >,\n",
       " <Residue ALA het=  resseq=88 icode= >,\n",
       " <Residue ASP het=  resseq=89 icode= >,\n",
       " <Residue GLU het=  resseq=90 icode= >,\n",
       " <Residue ASP het=  resseq=91 icode= >,\n",
       " <Residue PRO het=  resseq=92 icode= >,\n",
       " <Residue ILE het=  resseq=93 icode= >,\n",
       " <Residue MET het=  resseq=94 icode= >,\n",
       " <Residue GLY het=  resseq=95 icode= >,\n",
       " <Residue PHE het=  resseq=96 icode= >,\n",
       " <Residue HIS het=  resseq=97 icode= >,\n",
       " <Residue GLN het=  resseq=98 icode= >,\n",
       " <Residue MET het=  resseq=99 icode= >,\n",
       " <Residue PHE het=  resseq=100 icode= >,\n",
       " <Residue LEU het=  resseq=101 icode= >,\n",
       " <Residue LEU het=  resseq=102 icode= >,\n",
       " <Residue LYS het=  resseq=103 icode= >,\n",
       " <Residue ASN het=  resseq=104 icode= >,\n",
       " <Residue ILE het=  resseq=105 icode= >,\n",
       " <Residue ASN het=  resseq=106 icode= >,\n",
       " <Residue ASP het=  resseq=107 icode= >,\n",
       " <Residue ALA het=  resseq=108 icode= >,\n",
       " <Residue TRP het=  resseq=109 icode= >,\n",
       " <Residue VAL het=  resseq=110 icode= >,\n",
       " <Residue CYS het=  resseq=111 icode= >,\n",
       " <Residue THR het=  resseq=112 icode= >,\n",
       " <Residue ASN het=  resseq=113 icode= >,\n",
       " <Residue ASP het=  resseq=114 icode= >,\n",
       " <Residue MET het=  resseq=115 icode= >,\n",
       " <Residue PHE het=  resseq=116 icode= >,\n",
       " <Residue ARG het=  resseq=117 icode= >,\n",
       " <Residue LEU het=  resseq=118 icode= >,\n",
       " <Residue ALA het=  resseq=119 icode= >,\n",
       " <Residue LEU het=  resseq=120 icode= >,\n",
       " <Residue HIS het=  resseq=121 icode= >,\n",
       " <Residue ASN het=  resseq=122 icode= >,\n",
       " <Residue PHE het=  resseq=123 icode= >,\n",
       " <Residue GLY het=  resseq=124 icode= >]"
      ]
     },
     "execution_count": 13,
     "metadata": {},
     "output_type": "execute_result"
    }
   ],
   "source": [
    "list(refmodel[\"A\"].get_residues())"
   ]
  }
 ],
 "metadata": {
  "kernelspec": {
   "display_name": "Python 3",
   "language": "python",
   "name": "python3"
  },
  "language_info": {
   "codemirror_mode": {
    "name": "ipython",
    "version": 3
   },
   "file_extension": ".py",
   "mimetype": "text/x-python",
   "name": "python",
   "nbconvert_exporter": "python",
   "pygments_lexer": "ipython3",
   "version": "3.7.10"
  }
 },
 "nbformat": 4,
 "nbformat_minor": 5
}
